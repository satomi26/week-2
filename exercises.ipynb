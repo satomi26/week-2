{
 "cells": [
  {
   "cell_type": "code",
   "execution_count": 55,
   "metadata": {},
   "outputs": [
    {
     "name": "stdout",
     "output_type": "stream",
     "text": [
      "Hello World\n"
     ]
    }
   ],
   "source": [
    "\n",
    "print(\"Hello World\")"
   ]
  },
  {
   "cell_type": "code",
   "execution_count": 56,
   "metadata": {},
   "outputs": [
    {
     "data": {
      "text/plain": [
       "6"
      ]
     },
     "execution_count": 56,
     "metadata": {},
     "output_type": "execute_result"
    }
   ],
   "source": [
    "3+3"
   ]
  },
  {
   "cell_type": "code",
   "execution_count": 57,
   "metadata": {},
   "outputs": [
    {
     "data": {
      "text/plain": [
       "'Satomi'"
      ]
     },
     "execution_count": 57,
     "metadata": {},
     "output_type": "execute_result"
    }
   ],
   "source": [
    "# exercise 1\n",
    "\n",
    "my_name = \"Satomi\"\n",
    "my_name"
   ]
  },
  {
   "cell_type": "code",
   "execution_count": 58,
   "metadata": {},
   "outputs": [
    {
     "data": {
      "text/plain": [
       "43"
      ]
     },
     "execution_count": 58,
     "metadata": {},
     "output_type": "execute_result"
    }
   ],
   "source": [
    "# exercise 2\n",
    "age = 43\n",
    "age"
   ]
  },
  {
   "cell_type": "code",
   "execution_count": 59,
   "metadata": {},
   "outputs": [
    {
     "data": {
      "text/plain": [
       "11"
      ]
     },
     "execution_count": 59,
     "metadata": {},
     "output_type": "execute_result"
    }
   ],
   "source": [
    "# exercise 3\n",
    "\n",
    "julia_age = 32\n",
    "age_diff = age - julia_age\n",
    "age_diff"
   ]
  },
  {
   "cell_type": "code",
   "execution_count": 60,
   "metadata": {},
   "outputs": [
    {
     "name": "stdout",
     "output_type": "stream",
     "text": [
      "You are older than 21\n"
     ]
    }
   ],
   "source": [
    "# exercise 4\n",
    "\n",
    "if age >= 21:\n",
    "    print(\"You are older than 21\")\n",
    "else:\n",
    "    print(\"You are not older than 21\")\n"
   ]
  },
  {
   "cell_type": "code",
   "execution_count": 61,
   "metadata": {},
   "outputs": [
    {
     "name": "stdout",
     "output_type": "stream",
     "text": [
      "Julia is younger than you\n"
     ]
    }
   ],
   "source": [
    "# exercise 5\n",
    "\n",
    "if age > julia_age:\n",
    "    print(\"Julia is younger than you\")\n",
    "elif age == julia_age:\n",
    "    print(\"You have the same age as Julia\")\n",
    "else:\n",
    "    print(\"Julia is older than you\")"
   ]
  },
  {
   "cell_type": "code",
   "execution_count": 62,
   "metadata": {},
   "outputs": [
    {
     "name": "stdout",
     "output_type": "stream",
     "text": [
      "['Killian', 'Arjuzn', 'Satomi', 'Valentina', 'Marzieh', 'Muayad', 'Marjila']\n"
     ]
    }
   ],
   "source": [
    "# exercise 6\n",
    "\n",
    "mylist = [\"Killian\", \"Arjuzn\", \"Satomi\", \"Valentina\", \"Marzieh\", \"Muayad\", \"Marjila\"]\n",
    "print(mylist)"
   ]
  },
  {
   "cell_type": "code",
   "execution_count": 63,
   "metadata": {},
   "outputs": [
    {
     "data": {
      "text/plain": [
       "['Arjuzn', 'Killian', 'Marjila', 'Marzieh', 'Muayad', 'Satomi', 'Valentina']"
      ]
     },
     "execution_count": 63,
     "metadata": {},
     "output_type": "execute_result"
    }
   ],
   "source": [
    "# exercise 6\n",
    "# sort the list alphabetically. sorted()\n",
    "sorted(mylist)"
   ]
  },
  {
   "cell_type": "code",
   "execution_count": 64,
   "metadata": {},
   "outputs": [
    {
     "name": "stdout",
     "output_type": "stream",
     "text": [
      "Arjuzn\n",
      "Valentina\n"
     ]
    }
   ],
   "source": [
    "sorted_mylist = sorted(mylist)\n",
    "print(sorted_mylist[0])\n",
    "print(sorted_mylist[-1])"
   ]
  },
  {
   "cell_type": "code",
   "execution_count": 65,
   "metadata": {},
   "outputs": [
    {
     "name": "stdout",
     "output_type": "stream",
     "text": [
      "Arjuzn\n",
      "Killian\n",
      "Marjila\n",
      "Marzieh\n",
      "Muayad\n",
      "Satomi\n",
      "Valentina\n"
     ]
    }
   ],
   "source": [
    "# exercise 6 (print all the elements of te´he list(use \"for\" loop))\n",
    "for n in sorted_mylist:\n",
    "    print(n)"
   ]
  },
  {
   "cell_type": "code",
   "execution_count": 66,
   "metadata": {},
   "outputs": [
    {
     "name": "stdout",
     "output_type": "stream",
     "text": [
      "31\n",
      "32\n",
      "33\n",
      "34\n",
      "35\n",
      "36\n",
      "37\n",
      "38\n"
     ]
    }
   ],
   "source": [
    "# exercise 7\n",
    "students_age = [31,32,33,34,35,36,37,38]\n",
    "for i in students_age:\n",
    "    print(i)"
   ]
  },
  {
   "cell_type": "code",
   "execution_count": 67,
   "metadata": {},
   "outputs": [
    {
     "name": "stdout",
     "output_type": "stream",
     "text": [
      "32\n",
      "34\n",
      "36\n",
      "38\n"
     ]
    }
   ],
   "source": [
    "students_age = [31,32,33,34,35,36,37,38]\n",
    "for i in students_age:\n",
    "    if i % 2 == 0:\n",
    "        print(i)"
   ]
  },
  {
   "cell_type": "code",
   "execution_count": 68,
   "metadata": {},
   "outputs": [
    {
     "name": "stdout",
     "output_type": "stream",
     "text": [
      "32 34 36 38 "
     ]
    }
   ],
   "source": [
    "# do the same in while loop\n",
    "\n",
    "students_age = [31,32,33,34,35,36,37,38]\n",
    "num = 0\n",
    "while num < len(students_age):\n",
    "    if students_age[num] % 2 == 0:\n",
    "        print(students_age[num], end = \" \")\n",
    "    num += 1\n"
   ]
  },
  {
   "cell_type": "code",
   "execution_count": 69,
   "metadata": {},
   "outputs": [
    {
     "name": "stdout",
     "output_type": "stream",
     "text": [
      "287\n",
      "10\n"
     ]
    }
   ],
   "source": [
    "# exercise 8 & 9\n",
    "\n",
    "l = [10, 15, 13, 199, 25, 35, 43, 69, 98, 287]\n",
    "print(max(l))\n",
    "print(min(l))"
   ]
  },
  {
   "cell_type": "code",
   "execution_count": 70,
   "metadata": {},
   "outputs": [
    {
     "name": "stdout",
     "output_type": "stream",
     "text": [
      "23\n",
      "27\n",
      "17\n",
      "12\n",
      "15\n",
      "16\n",
      "28\n",
      "26\n",
      "43\n",
      "14\n"
     ]
    }
   ],
   "source": [
    "# exercise 10\n",
    "birth_year = [1999, 1995, 2005, 2010, 2007, 2006, 1994, 1996, 1979, 2008]\n",
    "for i in  birth_year:\n",
    "    print(2022 - i)"
   ]
  },
  {
   "cell_type": "code",
   "execution_count": 71,
   "metadata": {},
   "outputs": [],
   "source": [
    "# exercise 11\n",
    "customer_list = [\n",
    "    {\"name\":\"Bob\", \"age\": 1999},\n",
    "    {\"name\":\"Jack\", \"age\": 1995},\n",
    "    {\"name\":\"Lisa\", \"age\": 2005},\n",
    "    {\"name\":\"Maria\", \"age\": 2010},\n",
    "    {\"name\":\"Ben\", \"age\": 2007},\n",
    "    {\"name\":\"Emma\", \"age\": 2006},\n",
    "    {\"name\":\"Oscar\", \"age\": 1994},\n",
    "    {\"name\":\"Amy\", \"age\": 1996},\n",
    "    {\"name\":\"Paul\", \"age\": 1979},\n",
    "    {\"name\":\"Etta\", \"age\": 2008},\n",
    "    \n",
    "]"
   ]
  },
  {
   "cell_type": "code",
   "execution_count": 72,
   "metadata": {},
   "outputs": [
    {
     "name": "stdout",
     "output_type": "stream",
     "text": [
      "{'name': 'Bob', 'age': 1999}\n"
     ]
    }
   ],
   "source": [
    "print(customer_list[0])\n",
    "    "
   ]
  },
  {
   "cell_type": "code",
   "execution_count": 73,
   "metadata": {},
   "outputs": [
    {
     "name": "stdout",
     "output_type": "stream",
     "text": [
      "Bob\n"
     ]
    }
   ],
   "source": [
    "print(customer_list[0][\"name\"])"
   ]
  },
  {
   "cell_type": "code",
   "execution_count": 74,
   "metadata": {},
   "outputs": [
    {
     "name": "stdout",
     "output_type": "stream",
     "text": [
      "1999\n"
     ]
    }
   ],
   "source": [
    "print(customer_list[0][\"age\"])"
   ]
  },
  {
   "cell_type": "code",
   "execution_count": 75,
   "metadata": {},
   "outputs": [
    {
     "data": {
      "text/plain": [
       "23"
      ]
     },
     "execution_count": 75,
     "metadata": {},
     "output_type": "execute_result"
    }
   ],
   "source": [
    "current_age = 2022 - customer_list[0][\"age\"]\n",
    "current_age"
   ]
  },
  {
   "cell_type": "code",
   "execution_count": 76,
   "metadata": {},
   "outputs": [
    {
     "name": "stdout",
     "output_type": "stream",
     "text": [
      "Bob is 23 years old\n",
      "Jack is 27 years old\n",
      "Lisa is 17 years old\n",
      "Maria is 12 years old\n",
      "Ben is 15 years old\n",
      "Emma is 16 years old\n",
      "Oscar is 28 years old\n",
      "Amy is 26 years old\n",
      "Paul is 43 years old\n",
      "Etta is 14 years old\n"
     ]
    }
   ],
   "source": [
    "\n",
    "for customer in customer_list:\n",
    "    name = customer[\"name\"]\n",
    "    age = 2022 - customer[\"age\"]\n",
    "    print(f\"{name} is {age} years old\")"
   ]
  },
  {
   "cell_type": "code",
   "execution_count": 77,
   "metadata": {},
   "outputs": [
    {
     "name": "stdout",
     "output_type": "stream",
     "text": [
      "Bob is 23 years old\n",
      "Jack is 27 years old\n",
      "Lisa is 17 years old\n",
      "Maria is 12 years old\n",
      "Ben is 15 years old\n",
      "Emma is 16 years old\n",
      "Oscar is 28 years old\n",
      "Amy is 26 years old\n",
      "Paul is 43 years old\n",
      "Etta is 14 years old\n"
     ]
    }
   ],
   "source": [
    "import datetime\n",
    "today = datetime.date.today()\n",
    "year = today.year\n",
    "for customer in customer_list:\n",
    "    name = customer[\"name\"]\n",
    "    age = year - customer[\"age\"]\n",
    "    print(f\"{name} is {age} years old\")"
   ]
  },
  {
   "cell_type": "code",
   "execution_count": 78,
   "metadata": {},
   "outputs": [
    {
     "name": "stdout",
     "output_type": "stream",
     "text": [
      "Bob is 23 years old\n",
      "Jack is 27 years old\n",
      "Lisa is 17 years old\n",
      "Maria is 12 years old\n",
      "Ben is 15 years old\n",
      "Emma is 16 years old\n",
      "Oscar is 28 years old\n",
      "Amy is 26 years old\n",
      "Paul is 43 years old\n",
      "Etta is 14 years old\n"
     ]
    }
   ],
   "source": [
    "num = 0\n",
    "while num < len(customer_list):\n",
    "    customer = customer_list[num]\n",
    "    name = customer[\"name\"]\n",
    "    age = 2022 - customer[\"age\"]\n",
    "    print(f\"{name} is {age} years old\")\n",
    "    num += 1"
   ]
  },
  {
   "cell_type": "code",
   "execution_count": 79,
   "metadata": {},
   "outputs": [
    {
     "name": "stdout",
     "output_type": "stream",
     "text": [
      "['Bob', 'Jack', 'Lisa', 'Maria', 'Ben', 'Emma', 'Oscar', 'Amy', 'Paul', 'Etta']\n"
     ]
    }
   ],
   "source": [
    "l_name = [d.get(\"name\") for d in customer_list]\n",
    "print(l_name)"
   ]
  },
  {
   "cell_type": "code",
   "execution_count": 80,
   "metadata": {},
   "outputs": [
    {
     "name": "stdout",
     "output_type": "stream",
     "text": [
      "[1999, 1995, 2005, 2010, 2007, 2006, 1994, 1996, 1979, 2008]\n"
     ]
    }
   ],
   "source": [
    "l_age = [d.get(\"age\") for d in customer_list]\n",
    "print(l_age)"
   ]
  },
  {
   "cell_type": "code",
   "execution_count": 81,
   "metadata": {},
   "outputs": [
    {
     "name": "stdout",
     "output_type": "stream",
     "text": [
      "[9, 11, 12, 13, 14, 20, 23, 24, 25, 40]\n",
      "[11, 12, 13, 14, 20, 23, 24, 25, 40]\n",
      "[9, 11, 12, 13, 14, 20, 23, 24, 25]\n"
     ]
    }
   ],
   "source": [
    "# exercise 12: remove the youngest and the oldest person\n",
    "ages = [20, 24, 14, 9, 12, 13, 25, 23, 40, 11]\n",
    "new_ages = sorted(ages)\n",
    "print(new_ages)\n",
    "print(new_ages[1:])\n",
    "print(new_ages[:-1])"
   ]
  },
  {
   "cell_type": "code",
   "execution_count": 82,
   "metadata": {},
   "outputs": [
    {
     "name": "stdout",
     "output_type": "stream",
     "text": [
      "[9, 11, 12, 13, 14, 20, 23, 24, 25, 40]\n",
      "[11, 12, 13, 14, 20, 23, 24, 25]\n"
     ]
    }
   ],
   "source": [
    "# exercise 12: remove the youngest and the oldest person, try not to use max() and min() method\n",
    "ages = [20, 24, 14, 9, 12, 13, 25, 23, 40, 11]\n",
    "new_ages = sorted(ages)\n",
    "print(new_ages)\n",
    "del new_ages[0] # using del\n",
    "del new_ages[-1]\n",
    "print(new_ages)\n"
   ]
  },
  {
   "cell_type": "code",
   "execution_count": 83,
   "metadata": {},
   "outputs": [
    {
     "name": "stdout",
     "output_type": "stream",
     "text": [
      "<class 'list'>\n",
      "<class 'list'>\n",
      "<class 'NoneType'>\n"
     ]
    }
   ],
   "source": [
    "print(type(ages))\n",
    "print(type(new_ages))\n",
    "print(type(sorted_ages))"
   ]
  },
  {
   "cell_type": "code",
   "execution_count": 84,
   "metadata": {},
   "outputs": [
    {
     "name": "stdout",
     "output_type": "stream",
     "text": [
      "[20, 24, 14, 9, 12, 13, 25, 23, 40, 11]\n",
      "Sorted [9, 11, 12, 13, 14, 20, 23, 24, 25, 40]\n",
      "[]\n",
      "<class 'list'>\n",
      "[9, 11, 12, 13, 14, 20, 23, 24, 25, 40]\n",
      "9\n"
     ]
    }
   ],
   "source": [
    "#exercise 12 using pop\n",
    "\n",
    "ages = [20, 24, 14, 9, 12, 13, 25, 23, 40, 11]\n",
    "print(ages)\n",
    "ages.sort()\n",
    "print(\"Sorted\", ages)\n",
    "sorted_ages = []\n",
    "print(sorted_ages)\n",
    "print(type(sorted_ages))\n",
    "sorted_ages = ages\n",
    "print(sorted_ages)\n",
    "print(ages.pop(0))"
   ]
  },
  {
   "cell_type": "code",
   "execution_count": 85,
   "metadata": {},
   "outputs": [
    {
     "name": "stdout",
     "output_type": "stream",
     "text": [
      "original [20, 24, 14, 9, 12, 13, 25, 23, 40, 11]\n",
      "Sorted [40, 25, 24, 23, 20, 14, 13, 12, 11, 9]\n",
      "[25, 24, 23, 20, 14, 13, 12, 11]\n"
     ]
    }
   ],
   "source": [
    "#exercise 12 using pop\n",
    "\n",
    "ages = [20, 24, 14, 9, 12, 13, 25, 23, 40, 11]\n",
    "print(\"original\", ages)\n",
    "\n",
    "ages.sort(reverse = True)\n",
    "print(\"Sorted\", ages)\n",
    "\n",
    "ages.pop(0)\n",
    "ages.pop(-1)\n",
    "\n",
    "print(ages)"
   ]
  },
  {
   "cell_type": "code",
   "execution_count": 86,
   "metadata": {},
   "outputs": [
    {
     "name": "stdout",
     "output_type": "stream",
     "text": [
      "<class 'list'>\n",
      "20\n",
      "[24, 14, 9, 12, 13, 25, 23, 40, 11]\n"
     ]
    }
   ],
   "source": [
    "#exercise 12 using pop\n",
    "\n",
    "ages = [20, 24, 14, 9, 12, 13, 25, 23, 40, 11]\n",
    "print(type(ages))\n",
    "print(ages.pop(0))\n",
    "print(ages)"
   ]
  },
  {
   "cell_type": "code",
   "execution_count": 87,
   "metadata": {},
   "outputs": [
    {
     "name": "stdout",
     "output_type": "stream",
     "text": [
      "None\n",
      "<class 'NoneType'>\n"
     ]
    },
    {
     "ename": "AttributeError",
     "evalue": "'NoneType' object has no attribute 'pop'",
     "output_type": "error",
     "traceback": [
      "\u001b[1;31m---------------------------------------------------------------------------\u001b[0m",
      "\u001b[1;31mAttributeError\u001b[0m                            Traceback (most recent call last)",
      "Cell \u001b[1;32mIn [87], line 7\u001b[0m\n\u001b[0;32m      5\u001b[0m \u001b[39mprint\u001b[39m(sorted_ages)\n\u001b[0;32m      6\u001b[0m \u001b[39mprint\u001b[39m(\u001b[39mtype\u001b[39m(sorted_ages))\n\u001b[1;32m----> 7\u001b[0m \u001b[39mprint\u001b[39m(sorted_ages\u001b[39m.\u001b[39;49mpop(\u001b[39m0\u001b[39m))\n\u001b[0;32m      8\u001b[0m \u001b[39mprint\u001b[39m(sorted_ages)\n",
      "\u001b[1;31mAttributeError\u001b[0m: 'NoneType' object has no attribute 'pop'"
     ]
    }
   ],
   "source": [
    "#exercise 12 using pop\n",
    "\n",
    "ages = [20, 24, 14, 9, 12, 13, 25, 23, 40, 11]\n",
    "sorted_ages = ages.sort()\n",
    "print(sorted_ages)\n",
    "print(type(sorted_ages))\n",
    "print(sorted_ages.pop(0))\n",
    "print(sorted_ages)"
   ]
  },
  {
   "cell_type": "code",
   "execution_count": null,
   "metadata": {},
   "outputs": [
    {
     "name": "stdout",
     "output_type": "stream",
     "text": [
      "[0, 10, 20, 30, 40, 50]\n",
      "0\n",
      "[10, 20, 30, 40, 50]\n",
      "40\n",
      "[10, 20, 30, 50]\n"
     ]
    },
    {
     "data": {
      "text/plain": [
       "list"
      ]
     },
     "execution_count": 116,
     "metadata": {},
     "output_type": "execute_result"
    }
   ],
   "source": [
    "\n",
    "\n",
    "l = [0, 10, 20, 30, 40, 50]\n",
    "\n",
    "print(l)\n",
    "print(l.pop(0))\n",
    "print(l)\n",
    "\n",
    "print(l.pop(3))\n",
    "print(l)\n",
    "type(l)\n"
   ]
  },
  {
   "cell_type": "code",
   "execution_count": null,
   "metadata": {},
   "outputs": [
    {
     "data": {
      "text/plain": [
       "[10, 13, 15, 16, 18, 19]"
      ]
     },
     "execution_count": 77,
     "metadata": {},
     "output_type": "execute_result"
    }
   ],
   "source": [
    "# exercise 13\n",
    "berlin = [15, 13, 16, 18, 19, 10, 12]\n",
    "munich = [7, 13, 15, 20, 19, 18, 10, 16]\n",
    "\n",
    "list(set(berlin).intersection(munich))\n",
    "\n"
   ]
  },
  {
   "cell_type": "code",
   "execution_count": null,
   "metadata": {},
   "outputs": [
    {
     "name": "stdout",
     "output_type": "stream",
     "text": [
      "[15, 13, 16, 19, 10]\n"
     ]
    }
   ],
   "source": [
    "# exercise 14\n",
    "numbers = [15,13,16,15,19,15,10]\n",
    "numbers = list( dict.fromkeys(numbers) )\n",
    "print(numbers)"
   ]
  },
  {
   "cell_type": "markdown",
   "metadata": {},
   "source": [
    "Function"
   ]
  },
  {
   "cell_type": "code",
   "execution_count": null,
   "metadata": {},
   "outputs": [
    {
     "name": "stdout",
     "output_type": "stream",
     "text": [
      "Welcome satomi, have a nice day!\n"
     ]
    }
   ],
   "source": [
    "# exercise 15\n",
    "def welcome():\n",
    "    name = input(\"What's your name?\")\n",
    "    print(f\"Welcome {name}, have a nice day!\")\n",
    "\n",
    "welcome()"
   ]
  },
  {
   "cell_type": "code",
   "execution_count": null,
   "metadata": {},
   "outputs": [
    {
     "name": "stdout",
     "output_type": "stream",
     "text": [
      "14\n"
     ]
    }
   ],
   "source": [
    "# exercise 16\n",
    "\n",
    "def get_length():\n",
    "    string = input(\"write whatever you want!\")\n",
    "    print(len(string))\n",
    " \n",
    "get_length()"
   ]
  },
  {
   "cell_type": "code",
   "execution_count": null,
   "metadata": {},
   "outputs": [
    {
     "name": "stdout",
     "output_type": "stream",
     "text": [
      "YES! 40 is a even number.\n"
     ]
    }
   ],
   "source": [
    "# exercise 17\n",
    "def check_even():\n",
    "    number = int(input(\"Write a number\"))\n",
    "    if number % 2 == 0:\n",
    "        print(f\"YES! {number} is a even number.\")\n",
    "    else:\n",
    "        print(f\"NO! {number} is not a even number.\")\n",
    "\n",
    "check_even()"
   ]
  },
  {
   "cell_type": "code",
   "execution_count": null,
   "metadata": {},
   "outputs": [
    {
     "name": "stdout",
     "output_type": "stream",
     "text": [
      "Bob is 23 years old\n",
      "Jack is 27 years old\n",
      "Lisa is 17 years old\n",
      "Maria is 12 years old\n",
      "Ben is 15 years old\n",
      "Emma is 16 years old\n",
      "Oscar is 28 years old\n",
      "Amy is 26 years old\n",
      "Paul is 43 years old\n",
      "Etta is 14 years old\n"
     ]
    }
   ],
   "source": [
    "# exercise 18 \n",
    "# write a function for exercise 11\n",
    "\n",
    "customer_list = [\n",
    "    {\"name\":\"Bob\", \"age\": 1999},\n",
    "    {\"name\":\"Jack\", \"age\": 1995},\n",
    "    {\"name\":\"Lisa\", \"age\": 2005},\n",
    "    {\"name\":\"Maria\", \"age\": 2010},\n",
    "    {\"name\":\"Ben\", \"age\": 2007},\n",
    "    {\"name\":\"Emma\", \"age\": 2006},\n",
    "    {\"name\":\"Oscar\", \"age\": 1994},\n",
    "    {\"name\":\"Amy\", \"age\": 1996},\n",
    "    {\"name\":\"Paul\", \"age\": 1979},\n",
    "    {\"name\":\"Etta\", \"age\": 2008},\n",
    "    \n",
    "]\n",
    "\n",
    "def name_and_age():\n",
    "    for customer in customer_list:\n",
    "        name = customer[\"name\"]\n",
    "        age = 2022 - customer[\"age\"]\n",
    "        print(f\"{name} is {age} years old\")\n",
    "\n",
    "name_and_age()"
   ]
  },
  {
   "cell_type": "code",
   "execution_count": null,
   "metadata": {},
   "outputs": [
    {
     "name": "stdout",
     "output_type": "stream",
     "text": [
      "[11, 12, 13, 14, 20, 23, 24, 25, 40]\n",
      "[9, 11, 12, 13, 14, 20, 23, 24, 25]\n"
     ]
    }
   ],
   "source": [
    "# execersize 18 (write a function from exercise 12)\n",
    "\n",
    "'''ages = [20, 24, 14, 9, 12, 13, 25, 23, 40, 11]\n",
    "new_ages = sorted(ages)\n",
    "print(new_ages)\n",
    "print(new_ages[1:])\n",
    "print(new_ages[:-1])'''\n",
    "\n",
    "def remove_l_h():\n",
    "    ages = [20, 24, 14, 9, 12, 13, 25, 23, 40, 11]\n",
    "    new_ages = sorted(ages)\n",
    "    print(new_ages[1:])\n",
    "    print(new_ages[:-1])\n",
    "\n",
    "remove_l_h()"
   ]
  },
  {
   "cell_type": "code",
   "execution_count": null,
   "metadata": {},
   "outputs": [
    {
     "name": "stdout",
     "output_type": "stream",
     "text": [
      "[11, 12, 13, 14, 20, 23, 24, 25]\n"
     ]
    }
   ],
   "source": [
    "ages = [20, 24, 14, 9, 12, 13, 25, 23, 40, 11]\n",
    "new_ages = sorted(ages)\n",
    "del new_ages[0] # using del\n",
    "del new_ages[-1]\n",
    "print(new_ages)"
   ]
  },
  {
   "cell_type": "code",
   "execution_count": null,
   "metadata": {},
   "outputs": [
    {
     "name": "stdout",
     "output_type": "stream",
     "text": [
      "[11, 12, 13, 14, 20, 23, 24, 25]\n"
     ]
    }
   ],
   "source": [
    "def remove_l_h():\n",
    "    ages = [20, 24, 14, 9, 12, 13, 25, 23, 40, 11]\n",
    "    new_ages = sorted(ages)\n",
    "    del new_ages[0] # using del\n",
    "    del new_ages[-1]\n",
    "    print(new_ages)\n",
    "\n",
    "remove_l_h()"
   ]
  },
  {
   "cell_type": "code",
   "execution_count": null,
   "metadata": {},
   "outputs": [
    {
     "data": {
      "text/plain": [
       "[10, 13, 15, 16, 18, 19]"
      ]
     },
     "execution_count": 109,
     "metadata": {},
     "output_type": "execute_result"
    }
   ],
   "source": [
    "berlin = [15, 13, 16, 18, 19, 10, 12]\n",
    "munich = [7, 13, 15, 20, 19, 18, 10, 16]\n",
    "\n",
    "list(set(berlin).intersection(munich))"
   ]
  },
  {
   "cell_type": "code",
   "execution_count": 89,
   "metadata": {},
   "outputs": [
    {
     "name": "stdout",
     "output_type": "stream",
     "text": [
      "[10, 13, 15, 16, 18, 19]\n"
     ]
    }
   ],
   "source": [
    "# exercise 18 (function of exercise 13)\n",
    "def create_list_common_age(list1, list2):\n",
    "    print(list(set(list1).intersection(list2)))\n",
    "\n",
    "create_list_common_age([15, 13, 16, 18, 19, 10, 12], [7, 13, 15, 20, 19, 18, 10, 16])\n"
   ]
  },
  {
   "cell_type": "code",
   "execution_count": null,
   "metadata": {},
   "outputs": [
    {
     "name": "stdout",
     "output_type": "stream",
     "text": [
      "[2, 3, 4, 5]\n"
     ]
    }
   ],
   "source": [
    "# exercise 18 (function of exercise 13)\n",
    "def create_list_common_age(age_list, your_age):\n",
    "\n",
    "    return(list(set(age_list).intersection(your_age)))\n",
    "\n",
    "print(create_list_common_age([1,2,3, 3,4,5], [2,3,3,4,5,6]))"
   ]
  },
  {
   "cell_type": "code",
   "execution_count": 1,
   "metadata": {},
   "outputs": [
    {
     "data": {
      "text/plain": [
       "[15, 13, 16, 19, 10]"
      ]
     },
     "execution_count": 1,
     "metadata": {},
     "output_type": "execute_result"
    }
   ],
   "source": [
    "# exercise 18 (function of exercise 14)\n",
    "def remove_dup():\n",
    "    numbers = [15,13,16,15,19,15,10]\n",
    "    numbers = list(dict.fromkeys(numbers) )\n",
    "    return(numbers)\n",
    "\n",
    "remove_dup()"
   ]
  },
  {
   "cell_type": "code",
   "execution_count": null,
   "metadata": {},
   "outputs": [],
   "source": [
    "# exercise 19\n",
    "# write a function that takes an input list and value of age to find as input and return true or false if the age value is present or not in the list'def find():\n",
    "\n",
    "'''\n",
    "def find():\n",
    "    list = []\n",
    "    num = int(input(\"Enter number of elements : \"))\n",
    "\n",
    "    for i in range(0, num):\n",
    "        ele = int(input(\"Enter numbers: \"))\n",
    "        list.append(ele)\n",
    "    \n",
    "    print(list)\n",
    "\n",
    "find()\n",
    "\n",
    "\n",
    "'''\n"
   ]
  },
  {
   "cell_type": "code",
   "execution_count": null,
   "metadata": {},
   "outputs": [
    {
     "name": "stdout",
     "output_type": "stream",
     "text": [
      "Is in List: True\n",
      "Is in List: False\n",
      "Is in List: False\n",
      "Is in List: True\n"
     ]
    }
   ],
   "source": [
    "# exercise 19\n",
    "\n",
    "def present(ages, your_age):\n",
    "    \n",
    "    while your_age in ages:\n",
    "        return True\n",
    "        break\n",
    "    else:\n",
    "        return False\n",
    "\n",
    "inlist = present( [15,13,16,15,19,15,10], 13)\n",
    "print(f\"Is in List: {inlist}\")\n",
    "\n",
    "inlist = present( [15,13,16,1,19,5,10], 99)\n",
    "print(f\"Is in List: {inlist}\")\n",
    "\n",
    "inlist = present( [], 99)\n",
    "print(f\"Is in List: {inlist}\")\n",
    "\n",
    "inlist = present( [99, 99], 99)\n",
    "print(f\"Is in List: {inlist}\")\n"
   ]
  }
 ],
 "metadata": {
  "kernelspec": {
   "display_name": "Python 3.9.7 64-bit",
   "language": "python",
   "name": "python3"
  },
  "language_info": {
   "codemirror_mode": {
    "name": "ipython",
    "version": 3
   },
   "file_extension": ".py",
   "mimetype": "text/x-python",
   "name": "python",
   "nbconvert_exporter": "python",
   "pygments_lexer": "ipython3",
   "version": "3.9.7"
  },
  "orig_nbformat": 4,
  "vscode": {
   "interpreter": {
    "hash": "81794d4967e6c3204c66dcd87b604927b115b27c00565d3d43f05ba2f3a2cb0d"
   }
  }
 },
 "nbformat": 4,
 "nbformat_minor": 2
}
