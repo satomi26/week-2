{
 "cells": [
  {
   "cell_type": "code",
   "execution_count": 38,
   "metadata": {},
   "outputs": [
    {
     "data": {
      "text/plain": [
       "[23, 24, 22, 27, 44, 37, 35]"
      ]
     },
     "execution_count": 38,
     "metadata": {},
     "output_type": "execute_result"
    }
   ],
   "source": [
    "# Q1 create a function, which gibes a return with the age of customers\n",
    "import datetime\n",
    "year = datetime.date.today().year\n",
    "\n",
    "def give_age(birth_year):\n",
    "    ages = []\n",
    "    for y in birth_year:\n",
    "        age = year - y\n",
    "        ages.append(age)\n",
    "    return(ages)\n",
    "\n",
    "give_age([1999, 1998, 2000, 1995, 1978, 1985, 1987])\n"
   ]
  },
  {
   "cell_type": "code",
   "execution_count": 39,
   "metadata": {},
   "outputs": [
    {
     "data": {
      "text/plain": [
       "[11, 12, 13, 14, 20, 23, 24, 25]"
      ]
     },
     "execution_count": 39,
     "metadata": {},
     "output_type": "execute_result"
    }
   ],
   "source": [
    "# Q2 write a function that removes youngest and oldest cutomer.\n",
    "\n",
    "def remove_outlier(ages):\n",
    "    ages.sort()\n",
    "    del ages[0]\n",
    "    del ages[-1]\n",
    "    return(ages)\n",
    "\n",
    "remove_outlier([20, 24, 14, 9, 12, 13, 25, 23, 40, 11])\n",
    "\n",
    "\n",
    "\n"
   ]
  },
  {
   "cell_type": "code",
   "execution_count": 37,
   "metadata": {},
   "outputs": [
    {
     "name": "stdout",
     "output_type": "stream",
     "text": [
      "outliers are :  40 9\n",
      "[20, 24, 14, 12, 13, 25, 23, 11]\n"
     ]
    }
   ],
   "source": [
    "# Q2 write a function that removes youngest and oldest cutomer.\n",
    "\n",
    "def remove_outlier_2(ages):\n",
    "    l=ages[0]\n",
    "    h=ages[0]\n",
    "    jj=[]\n",
    "    kk=[]\n",
    "    for i in ages:\n",
    "        if i < l:\n",
    "            l=i\n",
    "\n",
    "        elif i > h:\n",
    "            h=i\n",
    "    print(\"outliers are : \", h, l)\n",
    "    ages.remove(h)\n",
    "    ages.remove(l)\n",
    "    print(ages)\n",
    "\n",
    "remove_outlier_2([20, 24, 14, 9, 12, 13, 25, 23, 40, 11])"
   ]
  },
  {
   "cell_type": "code",
   "execution_count": 41,
   "metadata": {},
   "outputs": [
    {
     "data": {
      "text/plain": [
       "[10, 13, 15, 16, 18, 19]"
      ]
     },
     "execution_count": 41,
     "metadata": {},
     "output_type": "execute_result"
    }
   ],
   "source": [
    "# Q3 write a function that takes these 2 lists as input and returns the common age values.\n",
    "\n",
    "def find_common_age(list_1, list_2):\n",
    "    return(list(set(list_1).intersection(list_2)))\n",
    "\n",
    "find_common_age([15, 13, 16, 18, 19, 10, 12 ], [7, 13, 15, 20, 19, 18, 10, 16])\n",
    "\n"
   ]
  },
  {
   "cell_type": "code",
   "execution_count": 43,
   "metadata": {},
   "outputs": [
    {
     "data": {
      "text/plain": [
       "[7, 13, 15, 20, 19, 18, 10, 16]"
      ]
     },
     "execution_count": 43,
     "metadata": {},
     "output_type": "execute_result"
    }
   ],
   "source": [
    "# Q4 write a function that takes the list with duplicate values as input and return the list with unique age values\n",
    "\n",
    "def remove_duplicate(dup_list):\n",
    "    return list(dict.fromkeys(dup_list))\n",
    "\n",
    "remove_duplicate([7, 13, 15, 20, 19, 18, 10, 16, 10, 13, 7])"
   ]
  },
  {
   "cell_type": "code",
   "execution_count": 46,
   "metadata": {},
   "outputs": [
    {
     "data": {
      "text/plain": [
       "False"
      ]
     },
     "execution_count": 46,
     "metadata": {},
     "output_type": "execute_result"
    }
   ],
   "source": [
    "# Q5 write a function that takes an input list and value of age to find as input and return true or false if the age value is present or not.\n",
    "\n",
    "def value_present(age_list, your_age):\n",
    "    while your_age in age_list:\n",
    "        return True\n",
    "        break\n",
    "    else:\n",
    "        return False\n",
    "        \n",
    "value_present([15, 13, 16, 18, 19, 10, 12 ], 20)"
   ]
  },
  {
   "cell_type": "markdown",
   "metadata": {},
   "source": [
    "Intermidiate Level"
   ]
  },
  {
   "cell_type": "code",
   "execution_count": 17,
   "metadata": {},
   "outputs": [
    {
     "data": {
      "text/plain": [
       "[2]"
      ]
     },
     "execution_count": 17,
     "metadata": {},
     "output_type": "execute_result"
    }
   ],
   "source": [
    "'''You are given an array containing integers. The array is either entirely comprised of odd integers or\n",
    "entirely comprised of even integers except for a single integer N.\n",
    "Write a method that takes the array as an argument and returns this “outlier” N.'''\n",
    "\n",
    "# 1 \n",
    "def find_outlier_1(array):\n",
    "    odd = []\n",
    "    even = []\n",
    "    for n in array:\n",
    "        if n % 2 == 1:\n",
    "            odd.append(n)\n",
    "        else:\n",
    "            even.append(n)\n",
    "    if len(odd) == 1:\n",
    "        return odd\n",
    "    elif len(even) == 1:\n",
    "        return(even)\n",
    "    else:\n",
    "        return \"There is no outlier.\"\n",
    "\n",
    "\n",
    "        \n",
    "find_outlier_1([2, 3, 1719, 19, 11, 13, -21])\n"
   ]
  },
  {
   "cell_type": "code",
   "execution_count": 19,
   "metadata": {},
   "outputs": [
    {
     "data": {
      "text/plain": [
       "[2]"
      ]
     },
     "execution_count": 19,
     "metadata": {},
     "output_type": "execute_result"
    }
   ],
   "source": [
    "# 1 in list comprehension version\n",
    "\n",
    "def find_outlier_1(array):\n",
    "    \n",
    "    odd = [n for n in array if n %2 == 1]\n",
    "    even = [n for n in array if n %2 == 0]\n",
    "\n",
    "    if len(odd) == 1:\n",
    "        return odd\n",
    "    elif len(even) == 1:\n",
    "        return(even)\n",
    "    else:\n",
    "        return \"There is no outlier.\"\n",
    "\n",
    "\n",
    "        \n",
    "find_outlier_1([2, 3, 1719, 19, 11, 13, -21])"
   ]
  },
  {
   "cell_type": "code",
   "execution_count": 7,
   "metadata": {},
   "outputs": [
    {
     "ename": "ValueError",
     "evalue": "0 is not in list",
     "output_type": "error",
     "traceback": [
      "\u001b[1;31m---------------------------------------------------------------------------\u001b[0m",
      "\u001b[1;31mValueError\u001b[0m                                Traceback (most recent call last)",
      "Cell \u001b[1;32mIn [7], line 10\u001b[0m\n\u001b[0;32m      7\u001b[0m     \u001b[39melse\u001b[39;00m:\n\u001b[0;32m      8\u001b[0m         \u001b[39mreturn\u001b[39;00m integers[new_integers\u001b[39m.\u001b[39mindex(\u001b[39m1\u001b[39m)]\n\u001b[1;32m---> 10\u001b[0m find_outlier([\u001b[39m1603\u001b[39;49m, \u001b[39m3\u001b[39;49m, \u001b[39m1719\u001b[39;49m, \u001b[39m19\u001b[39;49m, \u001b[39m11\u001b[39;49m, \u001b[39m13\u001b[39;49m, \u001b[39m-\u001b[39;49m\u001b[39m21\u001b[39;49m])\n",
      "Cell \u001b[1;32mIn [7], line 6\u001b[0m, in \u001b[0;36mfind_outlier\u001b[1;34m(integers)\u001b[0m\n\u001b[0;32m      4\u001b[0m new_integers \u001b[39m=\u001b[39m [\u001b[39mint\u001b[39m(integer\u001b[39m%\u001b[39m\u001b[39m2\u001b[39m) \u001b[39mfor\u001b[39;00m integer \u001b[39min\u001b[39;00m integers]\n\u001b[0;32m      5\u001b[0m \u001b[39mif\u001b[39;00m new_integers\u001b[39m.\u001b[39mcount(\u001b[39m0\u001b[39m) \u001b[39m==\u001b[39m \u001b[39m0\u001b[39m:\n\u001b[1;32m----> 6\u001b[0m     \u001b[39mreturn\u001b[39;00m integers[new_integers\u001b[39m.\u001b[39;49mindex(\u001b[39m0\u001b[39;49m)]\n\u001b[0;32m      7\u001b[0m \u001b[39melse\u001b[39;00m:\n\u001b[0;32m      8\u001b[0m     \u001b[39mreturn\u001b[39;00m integers[new_integers\u001b[39m.\u001b[39mindex(\u001b[39m1\u001b[39m)]\n",
      "\u001b[1;31mValueError\u001b[0m: 0 is not in list"
     ]
    }
   ],
   "source": [
    "#1 from the solution\n",
    "\n",
    "def find_outlier(integers):\n",
    "    new_integers = [int(integer%2) for integer in integers]\n",
    "    if new_integers.count(0) == 0:\n",
    "        return integers[new_integers.index(0)]\n",
    "    else:\n",
    "        return integers[new_integers.index(1)]\n",
    "\n",
    "find_outlier([1603, 3, 1719, 19, 11, 13, -21])"
   ]
  },
  {
   "cell_type": "code",
   "execution_count": 5,
   "metadata": {},
   "outputs": [
    {
     "data": {
      "text/plain": [
       "5"
      ]
     },
     "execution_count": 5,
     "metadata": {},
     "output_type": "execute_result"
    }
   ],
   "source": [
    "int(5.3)"
   ]
  },
  {
   "cell_type": "code",
   "execution_count": 20,
   "metadata": {},
   "outputs": [
    {
     "data": {
      "text/plain": [
       "[1, 3]"
      ]
     },
     "execution_count": 20,
     "metadata": {},
     "output_type": "execute_result"
    }
   ],
   "source": [
    "# 2. implement a difference function, which subtracts one list from another and returns the result. \n",
    "# It should remove all values from list a, which are present in list b.\n",
    "\n",
    "def array_diff(a, b):\n",
    "    c = [x for x in a if x not in b]\n",
    "    return c\n",
    "\n",
    "array_diff([1,2,3,4],[2,4])"
   ]
  },
  {
   "cell_type": "code",
   "execution_count": 21,
   "metadata": {},
   "outputs": [
    {
     "data": {
      "text/plain": [
       "[1, 3]"
      ]
     },
     "execution_count": 21,
     "metadata": {},
     "output_type": "execute_result"
    }
   ],
   "source": [
    "# 2 function should remove all values from list a, which are present in listb\n",
    "# 差集合を使ってAにはあってBにはないものを抽出する。まずList型からSet型に変換し、Set型同士を演算子『－』することで差集合を抽出することができる。\n",
    "\n",
    "def array_diff_1(list_a, list_b):\n",
    "    list_c = set(list_a) - set(list_b)\n",
    "    return list_c\n",
    "\n",
    "array_diff([1,2,3,4],[2,4])"
   ]
  },
  {
   "cell_type": "code",
   "execution_count": 30,
   "metadata": {},
   "outputs": [
    {
     "data": {
      "text/plain": [
       "'Bart, Lisa, Maggie & Satomi'"
      ]
     },
     "execution_count": 30,
     "metadata": {},
     "output_type": "execute_result"
    }
   ],
   "source": [
    "'''Given: an array containing hashes of names\n",
    "Return: a string formatted as a list of names separated by commas except for the last\n",
    "two names, which should be separated by an ampersand.'''\n",
    "\n",
    "def name_function(name_list):\n",
    "    name_list = [item['name']for item in name_list]\n",
    "    if len(name_list) > 2:\n",
    "        return (', '.join(name_list[:-1]) + \" & \" + str(name_list[-1]))\n",
    "    elif len(name_list) == 2:\n",
    "        return (\" & \".join(name_list))\n",
    "    elif len(name_list) == 1:\n",
    "        return(name_list[\"name\"])\n",
    "\n",
    "\n",
    "\n",
    "name_function([ {\"name\": \"Bart\"}, {\"name\": \"Lisa\"}, {\"name\": \"Maggie\"}, {\"name\": \"Satomi\"} ])\n",
    "# returns \"Bart\", \"Lisa\", \"Maggie\""
   ]
  },
  {
   "cell_type": "code",
   "execution_count": 33,
   "metadata": {},
   "outputs": [
    {
     "ename": "TypeError",
     "evalue": "list indices must be integers or slices, not str",
     "output_type": "error",
     "traceback": [
      "\u001b[1;31m---------------------------------------------------------------------------\u001b[0m",
      "\u001b[1;31mTypeError\u001b[0m                                 Traceback (most recent call last)",
      "Cell \u001b[1;32mIn [33], line 15\u001b[0m\n\u001b[0;32m     10\u001b[0m     \u001b[39melif\u001b[39;00m \u001b[39mlen\u001b[39m(n_list) \u001b[39m==\u001b[39m \u001b[39m1\u001b[39m:\n\u001b[0;32m     11\u001b[0m         \u001b[39mreturn\u001b[39;00m(n_list[\u001b[39m\"\u001b[39m\u001b[39mname\u001b[39m\u001b[39m\"\u001b[39m])\n\u001b[1;32m---> 15\u001b[0m name_function([ {\u001b[39m\"\u001b[39;49m\u001b[39mname\u001b[39;49m\u001b[39m\"\u001b[39;49m: \u001b[39m\"\u001b[39;49m\u001b[39mBart\u001b[39;49m\u001b[39m\"\u001b[39;49m}, {\u001b[39m\"\u001b[39;49m\u001b[39mname\u001b[39;49m\u001b[39m\"\u001b[39;49m: \u001b[39m\"\u001b[39;49m\u001b[39mLisa\u001b[39;49m\u001b[39m\"\u001b[39;49m}, {\u001b[39m\"\u001b[39;49m\u001b[39mname\u001b[39;49m\u001b[39m\"\u001b[39;49m: \u001b[39m\"\u001b[39;49m\u001b[39mMaggie\u001b[39;49m\u001b[39m\"\u001b[39;49m}, {\u001b[39m\"\u001b[39;49m\u001b[39mname\u001b[39;49m\u001b[39m\"\u001b[39;49m: \u001b[39m\"\u001b[39;49m\u001b[39mSatomi\u001b[39;49m\u001b[39m\"\u001b[39;49m} ])\n\u001b[0;32m     16\u001b[0m \u001b[39m# returns \"Bart\", \"Lisa\", \"Maggie\"\u001b[39;00m\n",
      "Cell \u001b[1;32mIn [33], line 4\u001b[0m, in \u001b[0;36mname_function\u001b[1;34m(name_list)\u001b[0m\n\u001b[0;32m      1\u001b[0m \u001b[39mdef\u001b[39;00m \u001b[39mname_function\u001b[39m(name_list):\n\u001b[0;32m      3\u001b[0m     n_list \u001b[39m=\u001b[39m []\n\u001b[1;32m----> 4\u001b[0m     \u001b[39mfor\u001b[39;00m key \u001b[39min\u001b[39;00m name_list[\u001b[39m\"\u001b[39;49m\u001b[39mname\u001b[39;49m\u001b[39m\"\u001b[39;49m]:\n\u001b[0;32m      5\u001b[0m         n_list\u001b[39m.\u001b[39mappend(key)\n\u001b[0;32m      6\u001b[0m     \u001b[39mif\u001b[39;00m \u001b[39mlen\u001b[39m(name_list) \u001b[39m>\u001b[39m \u001b[39m2\u001b[39m:\n",
      "\u001b[1;31mTypeError\u001b[0m: list indices must be integers or slices, not str"
     ]
    }
   ],
   "source": [
    "def name_function(name_list):\n",
    "\n",
    "    n_list = []\n",
    "    for key in name_list[\"name\"]:\n",
    "        n_list.append(key)\n",
    "    if len(name_list) > 2:\n",
    "        return (', '.join(n_list[:-1]) + \" & \" + str(n_list[-1]))\n",
    "    elif len(name_list) == 2:\n",
    "        return (\" & \".join(n_list))\n",
    "    elif len(n_list) == 1:\n",
    "        return(n_list[\"name\"])\n",
    "\n",
    "\n",
    "\n",
    "name_function([ {\"name\": \"Bart\"}, {\"name\": \"Lisa\"}, {\"name\": \"Maggie\"}, {\"name\": \"Satomi\"} ])\n",
    "# returns \"Bart\", \"Lisa\", \"Maggie\""
   ]
  },
  {
   "cell_type": "code",
   "execution_count": 46,
   "metadata": {},
   "outputs": [
    {
     "ename": "TypeError",
     "evalue": "list indices must be integers or slices, not str",
     "output_type": "error",
     "traceback": [
      "\u001b[1;31m---------------------------------------------------------------------------\u001b[0m",
      "\u001b[1;31mTypeError\u001b[0m                                 Traceback (most recent call last)",
      "Cell \u001b[1;32mIn [46], line 15\u001b[0m\n\u001b[0;32m     10\u001b[0m     \u001b[39melif\u001b[39;00m \u001b[39mlen\u001b[39m(name_list) \u001b[39m==\u001b[39m \u001b[39m1\u001b[39m:\n\u001b[0;32m     11\u001b[0m         \u001b[39mreturn\u001b[39;00m(name_list[\u001b[39m\"\u001b[39m\u001b[39mname\u001b[39m\u001b[39m\"\u001b[39m])\n\u001b[1;32m---> 15\u001b[0m name_function([ {\u001b[39m\"\u001b[39;49m\u001b[39mname\u001b[39;49m\u001b[39m\"\u001b[39;49m: \u001b[39m\"\u001b[39;49m\u001b[39mBart\u001b[39;49m\u001b[39m\"\u001b[39;49m}, {\u001b[39m\"\u001b[39;49m\u001b[39mname\u001b[39;49m\u001b[39m\"\u001b[39;49m: \u001b[39m\"\u001b[39;49m\u001b[39mLisa\u001b[39;49m\u001b[39m\"\u001b[39;49m}, {\u001b[39m\"\u001b[39;49m\u001b[39mname\u001b[39;49m\u001b[39m\"\u001b[39;49m: \u001b[39m\"\u001b[39;49m\u001b[39mMaggie\u001b[39;49m\u001b[39m\"\u001b[39;49m}, {\u001b[39m\"\u001b[39;49m\u001b[39mname\u001b[39;49m\u001b[39m\"\u001b[39;49m: \u001b[39m\"\u001b[39;49m\u001b[39mSatomi\u001b[39;49m\u001b[39m\"\u001b[39;49m} ])\n",
      "Cell \u001b[1;32mIn [46], line 5\u001b[0m, in \u001b[0;36mname_function\u001b[1;34m(name_list)\u001b[0m\n\u001b[0;32m      3\u001b[0m \u001b[39mfor\u001b[39;00m names \u001b[39min\u001b[39;00m name_list:\n\u001b[0;32m      4\u001b[0m     name \u001b[39m=\u001b[39m []\n\u001b[1;32m----> 5\u001b[0m     name\u001b[39m.\u001b[39mappend(name_list[\u001b[39m\"\u001b[39;49m\u001b[39mname\u001b[39;49m\u001b[39m\"\u001b[39;49m])\n\u001b[0;32m      6\u001b[0m \u001b[39mif\u001b[39;00m \u001b[39mlen\u001b[39m(name_list) \u001b[39m>\u001b[39m \u001b[39m2\u001b[39m:\n\u001b[0;32m      7\u001b[0m     \u001b[39mreturn\u001b[39;00m (\u001b[39m'\u001b[39m\u001b[39m, \u001b[39m\u001b[39m'\u001b[39m\u001b[39m.\u001b[39mjoin(name_list[:\u001b[39m-\u001b[39m\u001b[39m1\u001b[39m]) \u001b[39m+\u001b[39m \u001b[39m\"\u001b[39m\u001b[39m & \u001b[39m\u001b[39m\"\u001b[39m \u001b[39m+\u001b[39m (name_list[\u001b[39m-\u001b[39m\u001b[39m1\u001b[39m]))\n",
      "\u001b[1;31mTypeError\u001b[0m: list indices must be integers or slices, not str"
     ]
    }
   ],
   "source": [
    "def name_function(name_list):\n",
    "\n",
    "    for names in name_list:\n",
    "        name = []\n",
    "        name.append(name_list[\"name\"])\n",
    "    if len(name_list) > 2:\n",
    "        return (', '.join(name_list[:-1]) + \" & \" + (name_list[-1]))\n",
    "    elif len(name_list) == 2:\n",
    "        return (\" & \".join(name_list))\n",
    "    elif len(name_list) == 1:\n",
    "        return(name_list[\"name\"])\n",
    "\n",
    "\n",
    "\n",
    "name_function([ {\"name\": \"Bart\"}, {\"name\": \"Lisa\"}, {\"name\": \"Maggie\"}, {\"name\": \"Satomi\"} ])"
   ]
  },
  {
   "cell_type": "code",
   "execution_count": 43,
   "metadata": {},
   "outputs": [
    {
     "data": {
      "text/plain": [
       "'Bart, Lisa, Maggie & Satomi'"
      ]
     },
     "execution_count": 43,
     "metadata": {},
     "output_type": "execute_result"
    }
   ],
   "source": [
    "def namelist(names):\n",
    "    names = [item['name'] for item in names]\n",
    "    if names:\n",
    "        ','.join(names)\n",
    "        if len(names)>2:\n",
    "            return ( ', '.join(names[:-1]) + \" & \" + str(names[-1]))\n",
    "        elif len(names)==2:\n",
    "            return( ' & '.join(names))\n",
    "        elif len(names)==1:\n",
    "            return (names[0])\n",
    "            \n",
    "    return ''\n",
    "    \n",
    "namelist([{\"name\": \"Bart\"}, {\"name\": \"Lisa\"}, {\"name\": \"Maggie\"}, {\"name\": \"Satomi\"}])"
   ]
  },
  {
   "cell_type": "code",
   "execution_count": 62,
   "metadata": {},
   "outputs": [
    {
     "data": {
      "text/plain": [
       "[1, 2, 0, 123]"
      ]
     },
     "execution_count": 62,
     "metadata": {},
     "output_type": "execute_result"
    }
   ],
   "source": [
    "'''4. In this task, create a function that takes a list of non-negative integers and strings\n",
    "and returns a new list with the strings filtered out.'''\n",
    "\n",
    "def filter_list(list):\n",
    "    new_filter_list = []\n",
    "    for i in list:\n",
    "        if isinstance(i, int) == True:\n",
    "            new_filter_list.append(i)\n",
    "    return new_filter_list\n",
    "\n",
    "filter_list([1,2, 'aaafs','123', 0, 123])\n",
    "\n",
    "    "
   ]
  },
  {
   "cell_type": "code",
   "execution_count": 88,
   "metadata": {},
   "outputs": [
    {
     "data": {
      "text/plain": [
       "2"
      ]
     },
     "execution_count": 88,
     "metadata": {},
     "output_type": "execute_result"
    }
   ],
   "source": [
    "# 5. Given an array, find the int that appears an odd number of times.There will always be only one integer that appears an odd number of times.\n",
    "from collections import Counter\n",
    "\n",
    "def find_it(list):\n",
    "    c = Counter(list)\n",
    "    for value in c:\n",
    "       if value %2 == 1:\n",
    "            return (c[value])\n",
    "\n",
    "find_it([20,1,-1,2,-2,3,3,5,5,1,2,4,20,4,-1,-2,5])\n",
    "\n"
   ]
  },
  {
   "cell_type": "code",
   "execution_count": 80,
   "metadata": {},
   "outputs": [
    {
     "data": {
      "text/plain": [
       "5"
      ]
     },
     "execution_count": 80,
     "metadata": {},
     "output_type": "execute_result"
    }
   ],
   "source": [
    "# 5 solution\n",
    "\n",
    "def find_it_1(seq):\n",
    "    for item in set(seq):\n",
    "        if seq.count(item) % 2 == 1:\n",
    "            return item\n",
    "find_it_1([20,1,-1,2,-2,3,3,5,5,1,2,4,20,4,-1,-2,5])"
   ]
  },
  {
   "cell_type": "code",
   "execution_count": 99,
   "metadata": {},
   "outputs": [
    {
     "data": {
      "text/plain": [
       "5"
      ]
     },
     "execution_count": 99,
     "metadata": {},
     "output_type": "execute_result"
    }
   ],
   "source": [
    "# 5 correct answer?!\n",
    "from collections import Counter\n",
    "\n",
    "def find_it(list):\n",
    "    c = Counter(list)\n",
    "    for key in c:\n",
    "       if c[key] %2 == 1:\n",
    "            return key\n",
    "\n",
    "\n",
    "find_it([20,1,-1,2,-2,3,3,5,5,1,2,4,20,4,-1,-2,5])"
   ]
  },
  {
   "cell_type": "code",
   "execution_count": 106,
   "metadata": {},
   "outputs": [
    {
     "data": {
      "text/plain": [
       "{'Bug': 'An error in a program that prevents the program from running as expected.',\n",
       " 'Function': 'A piece of code that you can easily call over and over again',\n",
       " 'Loop': 'The action of doing something over and over again.'}"
      ]
     },
     "execution_count": 106,
     "metadata": {},
     "output_type": "execute_result"
    }
   ],
   "source": [
    "programming_dictionary = {\n",
    "    \"Bug\": \"An error in a program that prevents the program from running as expected.\",\n",
    "    \"Function\": \"A piece of code that you can easily call over and over again\",\n",
    "}\n",
    "\n",
    "programming_dictionary[\"Loop\"] = \"The action of doing something over and over again.\"\n",
    "\n",
    "programming_dictionary"
   ]
  },
  {
   "cell_type": "code",
   "execution_count": 107,
   "metadata": {},
   "outputs": [
    {
     "name": "stdout",
     "output_type": "stream",
     "text": [
      "Bug\n",
      "An error in a program that prevents the program from running as expected.\n",
      "Function\n",
      "A piece of code that you can easily call over and over again\n",
      "Loop\n",
      "The action of doing something over and over again.\n"
     ]
    }
   ],
   "source": [
    "for key in programming_dictionary:\n",
    "    print(key) # if i want to print the key of dictionary\n",
    "    print(programming_dictionary[key])"
   ]
  },
  {
   "cell_type": "code",
   "execution_count": 113,
   "metadata": {},
   "outputs": [
    {
     "data": {
      "text/plain": [
       "\"Examples input/output:\\nXO(“ooxx”) => true\\nXO(“xooxx”) => false\\nXO(“ooxXm”) => true\\nXO(“zpzpzpp”) => true // when no 'x' and 'o' is present should return true\\nXO(“zzoo”) => false\""
      ]
     },
     "execution_count": 113,
     "metadata": {},
     "output_type": "execute_result"
    }
   ],
   "source": [
    "# 6. Check to see if a string has the same amount of'x's and'o's. The method must return a boolean and be case insensitive. The string can contain any c\n",
    "def XO(string):\n",
    "    x = []\n",
    "    o = []\n",
    "    for item in string:\n",
    "        if \"x\" in string:\n",
    "            x.append(item)\n",
    "        elif \"o\" in string:\n",
    "            o.append(item)\n",
    "            if len(x) == len(o):\n",
    "                return True\n",
    "            else:\n",
    "                return False\n",
    "\n",
    "XO(\"ooxx\")\n",
    "\n",
    "\n",
    "'''Examples input/output:\n",
    "XO(“ooxx”) => true\n",
    "XO(“xooxx”) => false\n",
    "XO(“ooxXm”) => true\n",
    "XO(“zpzpzpp”) => true // when no 'x' and 'o' is present should return true\n",
    "XO(“zzoo”) => false'''"
   ]
  },
  {
   "cell_type": "code",
   "execution_count": null,
   "metadata": {},
   "outputs": [],
   "source": [
    "# 6 solution\n",
    "def XO(string):\n",
    "   if string.lower().count(\"x\") != string.lower().count(\"o\"):\n",
    "        return False\n",
    "   else:\n",
    "        return True\n",
    "\n",
    "XO(\"ooxx\")"
   ]
  },
  {
   "cell_type": "code",
   "execution_count": null,
   "metadata": {},
   "outputs": [],
   "source": [
    "#7\n",
    "\n",
    "def validate_pin():\n",
    "    pin = input(\"Enter the pin: \")\n",
    "    if len(pin) == 4 or len(pin) == 6:\n",
    "        return True\n",
    "    else:\n",
    "        return False\n"
   ]
  }
 ],
 "metadata": {
  "kernelspec": {
   "display_name": "Python 3.9.7 64-bit",
   "language": "python",
   "name": "python3"
  },
  "language_info": {
   "codemirror_mode": {
    "name": "ipython",
    "version": 3
   },
   "file_extension": ".py",
   "mimetype": "text/x-python",
   "name": "python",
   "nbconvert_exporter": "python",
   "pygments_lexer": "ipython3",
   "version": "3.9.7"
  },
  "orig_nbformat": 4,
  "vscode": {
   "interpreter": {
    "hash": "81794d4967e6c3204c66dcd87b604927b115b27c00565d3d43f05ba2f3a2cb0d"
   }
  }
 },
 "nbformat": 4,
 "nbformat_minor": 2
}
