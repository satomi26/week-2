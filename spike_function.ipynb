{
 "cells": [
  {
   "cell_type": "code",
   "execution_count": 1,
   "metadata": {},
   "outputs": [
    {
     "name": "stdout",
     "output_type": "stream",
     "text": [
      "This is printing multiply:  10\n",
      "This is printing multiply:  20\n",
      "This is printing formula:  8\n",
      "This is printing resultof_formula:  16\n"
     ]
    }
   ],
   "source": [
    "def add_with_return(n1, n2):\n",
    "    return n1 + n2\n",
    "\n",
    "result = add_with_return(4,6)\n",
    "print(\"This is printing multiply: \", result)\n",
    "\n",
    "def multiply(number):\n",
    "    return number * 2\n",
    "\n",
    "result_2 = multiply(result)\n",
    "print(\"This is printing multiply: \", result_2)\n",
    "\n",
    "def formula(a,b):\n",
    "    sum = a + b\n",
    "    print(\"This is printing formula: \", sum)\n",
    "    return sum * 2\n",
    "\n",
    "result_of_formula = formula(3,5)\n",
    "print(\"This is printing resultof_formula: \", result_of_formula)\n"
   ]
  },
  {
   "cell_type": "code",
   "execution_count": 4,
   "metadata": {},
   "outputs": [],
   "source": [
    "def youngest(ages):\n",
    "    #ages = [20,24,14,9,12,13,25,23, 40,11]\n",
    "    min_item = ages[0]\n",
    "    for num in ages:\n",
    "        print(\"This is the number I am checking against: \", num)\n",
    "        if num < min_item:\n",
    "            min_item = num\n",
    "            print(\"Min_item\", min_item)\n",
    "    return min_item\n",
    "\n",
    "def oldest(ages):\n",
    "    #ages = [20,24,14,9,12,13,25,23, 40,11]\n",
    "    max_item = [0]\n",
    "    for num in ages:\n",
    "        if num > max_item:\n",
    "            max_item = num\n",
    "    return max_item\n"
   ]
  },
  {
   "cell_type": "code",
   "execution_count": 5,
   "metadata": {},
   "outputs": [
    {
     "name": "stdout",
     "output_type": "stream",
     "text": [
      "This is the number I am checking against:  20\n",
      "This is the number I am checking against:  24\n",
      "This is the number I am checking against:  14\n",
      "Min_item 14\n",
      "This is the number I am checking against:  9\n",
      "Min_item 9\n",
      "This is the number I am checking against:  12\n",
      "This is the number I am checking against:  13\n",
      "This is the number I am checking against:  25\n",
      "This is the number I am checking against:  23\n",
      "This is the number I am checking against:  40\n",
      "This is the number I am checking against:  11\n"
     ]
    },
    {
     "data": {
      "text/plain": [
       "9"
      ]
     },
     "execution_count": 5,
     "metadata": {},
     "output_type": "execute_result"
    }
   ],
   "source": [
    "youngest([20,24,14,9,12,13,25,23, 40,11])"
   ]
  }
 ],
 "metadata": {
  "kernelspec": {
   "display_name": "Python 3.9.7 64-bit",
   "language": "python",
   "name": "python3"
  },
  "language_info": {
   "codemirror_mode": {
    "name": "ipython",
    "version": 3
   },
   "file_extension": ".py",
   "mimetype": "text/x-python",
   "name": "python",
   "nbconvert_exporter": "python",
   "pygments_lexer": "ipython3",
   "version": "3.9.7"
  },
  "orig_nbformat": 4,
  "vscode": {
   "interpreter": {
    "hash": "81794d4967e6c3204c66dcd87b604927b115b27c00565d3d43f05ba2f3a2cb0d"
   }
  }
 },
 "nbformat": 4,
 "nbformat_minor": 2
}
